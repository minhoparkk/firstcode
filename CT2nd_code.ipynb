{
  "nbformat": 4,
  "nbformat_minor": 0,
  "metadata": {
    "colab": {
      "provenance": [],
      "authorship_tag": "ABX9TyMEnjr0kxcSfCiZXfBmVZ83",
      "include_colab_link": true
    },
    "kernelspec": {
      "name": "python3",
      "display_name": "Python 3"
    },
    "language_info": {
      "name": "python"
    }
  },
  "cells": [
    {
      "cell_type": "markdown",
      "metadata": {
        "id": "view-in-github",
        "colab_type": "text"
      },
      "source": [
        "<a href=\"https://colab.research.google.com/github/minhoparkk/firstcode/blob/main/CT2nd_code.ipynb\" target=\"_parent\"><img src=\"https://colab.research.google.com/assets/colab-badge.svg\" alt=\"Open In Colab\"/></a>"
      ]
    },
    {
      "cell_type": "markdown",
      "source": [
        "2번째 코딩\n",
        "- 사용자로부터 3개의 값을 받아서  합을 내고, 평균을 출력하는 코드"
      ],
      "metadata": {
        "id": "KL_laymqKbnl"
      }
    },
    {
      "cell_type": "code",
      "execution_count": null,
      "metadata": {
        "colab": {
          "base_uri": "https://localhost:8080/"
        },
        "id": "GhE8lYQ7GoA2",
        "outputId": "8bcca2e4-e1ef-4cdd-f51e-c68bfa2ccdd8"
      },
      "outputs": [
        {
          "output_type": "stream",
          "name": "stdout",
          "text": [
            "N1의 값을 입력하시오.:40\n",
            "N2의 값을 입력하시오.:50\n",
            "N3의 값을 입력하시오.:60\n",
            "50.0\n"
          ]
        }
      ],
      "source": [
        "n1 = int(input(\"N1의 값을 입력하시오.:\"))       # 사용자로부터 n1의 값을 정수형으로 입력 받습니다.\n",
        "n2 = int(input(\"N2의 값을 입력하시오.:\"))       # 사용자로부터 n2의 값을 정수형으로 입력 받습니다.\n",
        "n3 = int(input(\"N3의 값을 입력하시오.:\"))       # 사용자로부터 n3의 값을 정수형으로 입력 받습니다.\n",
        "total = n1 + n2 + n3                            # n1, n2, n3의 합계를 계산합니다.\n",
        "average = total / 3                             # n1, n2, n3의 평균을 계산합니다.\n",
        "print(average)                                  # 계산된 평균을 출력합니다."
      ]
    }
  ]
}